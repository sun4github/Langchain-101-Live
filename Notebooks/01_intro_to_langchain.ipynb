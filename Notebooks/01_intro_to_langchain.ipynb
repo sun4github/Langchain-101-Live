{
 "cells": [
  {
   "cell_type": "markdown",
   "id": "fb42067f-c43c-4e77-bc82-72fe3853d1fa",
   "metadata": {},
   "source": [
    "## Langchain Intro\n",
    "\n",
    "### What is langchain?\n",
    "- Langchain is a framework that helps us develop robust, scalable and production ready applications that are powered by large language models (LLM)\n",
    "### Why do we need langchain ?\n",
    "- Langchain provides several features that can enhance application development. LLM's by themselves have several limitations which can be addressed by Langchain. \n",
    "- LLMs have a context window which indicates how much data they can process at a time. Langchain helps us overcome this by providing components such as  document loaders, text splitters, vector databases and retrievers, which can help us discover the most relevant data to load into the LLM context window.\n",
    "- LLMs lack access to real time data and hence cannot provide the most relevant responses to some questions. Langchain helps us overcome this by allowing us to connect LLMs to databases, APIs and other knowledge sources.\n",
    "- LLMs lack memory and hence cannot remember the past conversations. This becomes important especially for Chat bots and personalization. Langchain helps us overcome this by utilizing memory modules, which allow applications to store and retrieve past conversations\n",
    "- LLMs while having many concepts, is not greatly organized and unless the concepts are well seggregated, may cause the codebase to become a big ball of mud (the nightmare of software developers). Langchain helps us overcome this by introducing concepts such as Chains for orchestration, Agents for automation and tool use and Output parsers.\n",
    "- LLMs being language models are not designed to search effectively when provided with lot of information. Langchain helps us overcome this with integrations for several vector databases which are specialized databases that can help us save intelligent context aware numbers (otherwise known as vectors) and perform similarity searches against those vectors , thereby supplying LLMs with the most relevant content for processing\n",
    "- Finally, a typical LLM application only utilizes a single LLM. However, at times some applications require multiple LLMs to be utilized in a single application due to their specialized nature. Langchain with its common runnable interfaces supports integrating multiple LLMs and other external data sources into a single cohesive workflow.\n",
    "\n",
    "### What are the pre-requisites for your system to be able to run langchain enabled python programs ?\n",
    "- Langchain has SDK's for multiple languages. However, for this course we will be utilizing Python SDK due to its popularity for machine learning and AI\n",
    "- For this reason, you need to download and install Python for your operating system: [Ref: Download Python](https://www.python.org/downloads/)\n",
    "- Jupyter Notebooks are awesome for coding with LangChain because they let you run and test bits of code on the fly, making it super easy to experiment and see results instantly. Plus, you can mix in text, visuals, and code all in one place, which is great for explaining your work and sharing it with others. You can download and install jupyter notebooks by following the instructions from [here](https://jupyter.org/install)\n",
    "- You would want to install at least the following: jupyterlab and notebook "
   ]
  },
  {
   "cell_type": "code",
   "execution_count": null,
   "id": "cee1b897-3d84-4f76-9d8b-3a19aa24f8c6",
   "metadata": {},
   "outputs": [],
   "source": []
  }
 ],
 "metadata": {
  "kernelspec": {
   "display_name": "Python 3 (ipykernel)",
   "language": "python",
   "name": "python3"
  },
  "language_info": {
   "codemirror_mode": {
    "name": "ipython",
    "version": 3
   },
   "file_extension": ".py",
   "mimetype": "text/x-python",
   "name": "python",
   "nbconvert_exporter": "python",
   "pygments_lexer": "ipython3",
   "version": "3.13.1"
  }
 },
 "nbformat": 4,
 "nbformat_minor": 5
}
