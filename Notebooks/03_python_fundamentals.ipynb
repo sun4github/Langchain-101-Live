{
 "cells": [
  {
   "cell_type": "code",
   "execution_count": 3,
   "id": "cce21e36-6dbb-49dc-8014-6a03040274fe",
   "metadata": {},
   "outputs": [
    {
     "name": "stdout",
     "output_type": "stream",
     "text": [
      "False\n"
     ]
    }
   ],
   "source": [
    "# Integer\n",
    "count = 10\n",
    "\n",
    "# Float\n",
    "temperature = 98.6\n",
    "\n",
    "# String\n",
    "name = \"LangChain\"\n",
    "\n",
    "# Boolean\n",
    "is_active = False\n",
    "\n",
    "print(is_active)"
   ]
  },
  {
   "cell_type": "code",
   "execution_count": null,
   "id": "5b0eedd0-ff79-44b7-9a48-9e0e8723b86a",
   "metadata": {},
   "outputs": [],
   "source": [
    "# List (similar to arrays)\n",
    "numbers = [1, 2, 3, 4, 5]\n",
    "\n",
    "# Dictionary (similar to hashmaps or objects)\n",
    "person = {\"name\": \"Suneel\", \"age\": 30}\n",
    "\n"
   ]
  },
  {
   "cell_type": "code",
   "execution_count": 8,
   "id": "543248ca-02fd-4c00-8946-654042313864",
   "metadata": {},
   "outputs": [
    {
     "name": "stdout",
     "output_type": "stream",
     "text": [
      "cherry\n",
      "blueberry\n",
      "['apple', 'blueberry', 'date']\n"
     ]
    }
   ],
   "source": [
    "# Creating a list\n",
    "fruits = [\"apple\", \"banana\", \"cherry\"]\n",
    "\n",
    "# Accessing elements\n",
    "print(fruits[2])  # Output: \"apple\"\n",
    "\n",
    "# Modifying elements\n",
    "fruits[1] = \"blueberry\"\n",
    "print(fruits[1])\n",
    "\n",
    "# Adding elements\n",
    "fruits.append(\"date\")\n",
    "\n",
    "# Removing elements\n",
    "fruits.remove(\"cherry\")\n",
    "\n",
    "\n",
    "print(fruits)\n"
   ]
  },
  {
   "cell_type": "code",
   "execution_count": null,
   "id": "36200ca9-c5e8-4c26-ae4a-2a296e9d24c2",
   "metadata": {},
   "outputs": [],
   "source": []
  }
 ],
 "metadata": {
  "kernelspec": {
   "display_name": "Python 3 (ipykernel)",
   "language": "python",
   "name": "python3"
  },
  "language_info": {
   "codemirror_mode": {
    "name": "ipython",
    "version": 3
   },
   "file_extension": ".py",
   "mimetype": "text/x-python",
   "name": "python",
   "nbconvert_exporter": "python",
   "pygments_lexer": "ipython3",
   "version": "3.13.1"
  }
 },
 "nbformat": 4,
 "nbformat_minor": 5
}
