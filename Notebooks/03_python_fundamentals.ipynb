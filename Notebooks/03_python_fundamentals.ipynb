{
 "cells": [
  {
   "cell_type": "code",
   "execution_count": 3,
   "id": "cce21e36-6dbb-49dc-8014-6a03040274fe",
   "metadata": {},
   "outputs": [
    {
     "name": "stdout",
     "output_type": "stream",
     "text": [
      "False\n"
     ]
    }
   ],
   "source": [
    "# In Python, variables are dynamically typed.\n",
    "\n",
    "# Integer\n",
    "count = 10\n",
    "\n",
    "# Float\n",
    "temperature = 98.6\n",
    "\n",
    "# String\n",
    "name = \"LangChain\"\n",
    "\n",
    "# Boolean\n",
    "is_active = False\n",
    "\n",
    "print(is_active)\n",
    "\n",
    "# List (similar to arrays)\n",
    "numbers = [1, 2, 3, 4, 5]\n",
    "\n",
    "# Dictionary (similar to hashmaps or objects)\n",
    "person = {\"name\": \"Suneel\", \"age\": 30}"
   ]
  },
  {
   "cell_type": "code",
   "execution_count": 8,
   "id": "543248ca-02fd-4c00-8946-654042313864",
   "metadata": {},
   "outputs": [
    {
     "name": "stdout",
     "output_type": "stream",
     "text": [
      "cherry\n",
      "blueberry\n",
      "['apple', 'blueberry', 'date']\n"
     ]
    }
   ],
   "source": [
    "#In Python, the primary data structure for ordered collections is the list.\n",
    "\n",
    "# Creating a list\n",
    "fruits = [\"apple\", \"banana\", \"cherry\"]\n",
    "\n",
    "# Accessing elements\n",
    "print(fruits[2])  # Output: \"apple\"\n",
    "\n",
    "# Modifying elements\n",
    "fruits[1] = \"blueberry\"\n",
    "print(fruits[1])\n",
    "\n",
    "# Adding elements\n",
    "fruits.append(\"date\")\n",
    "\n",
    "# Removing elements\n",
    "fruits.remove(\"cherry\")\n",
    "\n",
    "\n",
    "print(fruits)\n"
   ]
  },
  {
   "cell_type": "code",
   "execution_count": 27,
   "id": "ee8bdd45-04d5-4284-831a-320ea0eb2666",
   "metadata": {},
   "outputs": [
    {
     "name": "stdout",
     "output_type": "stream",
     "text": [
      "['apple', 'banana', 'cherry']\n",
      "['elderberry', 'fig']\n",
      "['elderberry', 'fig', 'grape']\n",
      "['elderberry', 'fig']\n"
     ]
    }
   ],
   "source": [
    "# basic slicing List[start:stop:step] -  element at stop index is not included in result\n",
    "\n",
    "fruits = ['apple', 'banana', 'cherry', 'date', 'elderberry', 'fig', 'grape']\n",
    "\n",
    "# Extract the first three elements\n",
    "print(fruits[:3])\n",
    "\n",
    "# Extract elements from index 4 to 5 (inclusive)\n",
    "print(fruits[4:6])\n",
    "\n",
    "#using negative indicies -> -1 is the index for the last element in this case\n",
    "# Extract the last three elements\n",
    "print(fruits[-3:])\n",
    "\n",
    "# Extract elements from the third-last to the second-last\n",
    "print(fruits[-3:-1])\n"
   ]
  },
  {
   "cell_type": "code",
   "execution_count": 32,
   "id": "b6b1844c-d6ac-49e1-b6d7-b588d754317f",
   "metadata": {},
   "outputs": [
    {
     "name": "stdout",
     "output_type": "stream",
     "text": [
      "{1, 2, 3, 4, 5, 6}\n",
      "range(0, 10)\n"
     ]
    }
   ],
   "source": [
    "#Collections of unique elements.\n",
    "\n",
    "# Creating a set\n",
    "unique_numbers = {1, 2, 3, 4, 4, 5}\n",
    "\n",
    "# Adding elements\n",
    "unique_numbers.add(6)\n",
    "\n",
    "# Adding elements\n",
    "unique_numbers.add(6)\n",
    "print(unique_numbers)\n",
    "\n",
    "print(range(10))"
   ]
  },
  {
   "cell_type": "code",
   "execution_count": 33,
   "id": "6c5820f0-9695-4853-9e29-b50ef1ec54ce",
   "metadata": {},
   "outputs": [
    {
     "name": "stdout",
     "output_type": "stream",
     "text": [
      "[0, 1, 4, 9, 16, 25, 36, 49, 64, 81]\n"
     ]
    }
   ],
   "source": [
    "#Concise way to create lists.\n",
    "\n",
    "# Creating a list of squares\n",
    "squares = [x**2 for x in range(10)] \n",
    "\n",
    "print(squares)\n"
   ]
  },
  {
   "cell_type": "code",
   "execution_count": 37,
   "id": "d0e77527-46be-45e4-8cb3-97819058411f",
   "metadata": {},
   "outputs": [
    {
     "name": "stdout",
     "output_type": "stream",
     "text": [
      "['apple', 'banana', 'cherry', 'date', 'elderberry', 'fig', 'grape']\n",
      "apple\n",
      "banana\n",
      "cherry\n",
      "date\n",
      "elderberry\n",
      "fig\n",
      "grape\n",
      "0\n",
      "1\n",
      "2\n",
      "3\n",
      "4\n",
      "outside the loop\n",
      "5\n"
     ]
    }
   ],
   "source": [
    "#Python offers for and while loops for iteration.\n",
    "print(fruits)\n",
    "\n",
    "# For loop\n",
    "for x in fruits:\n",
    "    print(x)\n",
    "\n",
    "# While loop\n",
    "count = 0\n",
    "while count < 5:\n",
    "    print(count)\n",
    "    count += 1\n",
    "\n",
    "print(\"outside the loop\")\n",
    "print(count)\n",
    "\n",
    "# for(i=0;i<10;i++) {}\n",
    "for i in range(6):\n",
    "    print(i)"
   ]
  },
  {
   "cell_type": "code",
   "execution_count": 48,
   "id": "5aec8e6b-8e12-4210-86e6-0f42723e5fe6",
   "metadata": {},
   "outputs": [
    {
     "name": "stdout",
     "output_type": "stream",
     "text": [
      "It's extra warm.\n"
     ]
    }
   ],
   "source": [
    "#Use if, elif, and else to execute code based on conditions.\n",
    "temperature = 71\n",
    "\n",
    "if temperature > 80:\n",
    "    print(\"It's hot!\")\n",
    "elif temperature > 70:\n",
    "    print(\"It's extra warm.\")\n",
    "elif temperature > 60:\n",
    "    print(\"It's warm.\")\n",
    "else:\n",
    "    print(\"It's cold.\")\n"
   ]
  },
  {
   "cell_type": "code",
   "execution_count": 52,
   "id": "6b21c7f2-1137-42bc-ba5b-556fdfe18acc",
   "metadata": {},
   "outputs": [
    {
     "name": "stdout",
     "output_type": "stream",
     "text": [
      "Samuel\n",
      "30\n",
      "Fort Mill\n",
      "{'name': 'Samuel', 'age': 30, 'city': 'Fort Mill'}\n"
     ]
    }
   ],
   "source": [
    "#Store key-value pairs.\n",
    "\n",
    "# Creating a dictionary\n",
    "person = {\"name\": \"Samuel\", \"age\": 30}\n",
    "\n",
    "# Accessing values\n",
    "print(person[\"name\"])\n",
    "print(person[\"age\"])\n",
    "\n",
    "# Adding a new key-value pair\n",
    "person[\"city\"] = \"Fort Mill\"\n",
    "\n",
    "print(person[\"city\"])\n",
    "\n",
    "print(person)"
   ]
  },
  {
   "cell_type": "code",
   "execution_count": 60,
   "id": "0a0481f1-6800-4372-a5d8-bbfbf7da5c61",
   "metadata": {},
   "outputs": [
    {
     "name": "stdout",
     "output_type": "stream",
     "text": [
      "Hello, Lucy!\n"
     ]
    }
   ],
   "source": [
    "#Define reusable blocks of code using the def keyword.\n",
    "\n",
    "def greet(name):\n",
    "    return f\"Hello, {name}!\"\n",
    "\n",
    "# Usage\n",
    "message = greet(\"Lucy\")\n",
    "print(message)"
   ]
  },
  {
   "cell_type": "code",
   "execution_count": 62,
   "id": "e3ca7116-0b85-4ecb-9065-5cac8f2e43fb",
   "metadata": {},
   "outputs": [
    {
     "name": "stdout",
     "output_type": "stream",
     "text": [
      "Buddy says woof!\n"
     ]
    }
   ],
   "source": [
    "#Python supports object-oriented programming, allowing you to define classes using \"class\" keyword\n",
    "\n",
    "class Dog:\n",
    "    def __init__(self, name):\n",
    "        self.nickname = name\n",
    "\n",
    "    def bark(self):\n",
    "        return f\"{self.nickname} says woof!\"\n",
    "\n",
    "# Usage\n",
    "my_dog = Dog(\"Buddy\")\n",
    "print(my_dog.bark())"
   ]
  },
  {
   "cell_type": "code",
   "execution_count": 64,
   "id": "25400a58-54a0-4640-885d-263aadffd79c",
   "metadata": {},
   "outputs": [
    {
     "name": "stdout",
     "output_type": "stream",
     "text": [
      "Micky says woof!\n",
      "Paws says meow!\n"
     ]
    }
   ],
   "source": [
    "#Implement object-oriented principles by creating classes that inherit from other classes.\n",
    "class Animal:\n",
    "    def __init__(self, name):\n",
    "        self.name = name\n",
    "\n",
    "    def speak(self):\n",
    "        pass\n",
    "\n",
    "class Dog(Animal):\n",
    "    def speak(self):\n",
    "        return f\"{self.name} says woof!\"\n",
    "\n",
    "class Cat(Animal):\n",
    "    def speak(self):\n",
    "        return f\"{self.name} says meow!\"\n",
    "\n",
    "my_dog = Dog(\"Micky\")\n",
    "print(my_dog.speak())\n",
    "\n",
    "my_cat = Cat(\"Paws\")\n",
    "print(my_cat.speak())"
   ]
  },
  {
   "cell_type": "code",
   "execution_count": 66,
   "id": "51d3f8fe-84d4-4081-bf26-b07954f26c0e",
   "metadata": {},
   "outputs": [
    {
     "name": "stdout",
     "output_type": "stream",
     "text": [
      "4.0\n",
      "AMD64\n"
     ]
    }
   ],
   "source": [
    "#Organize code into reusable modules and packages.\n",
    "import math\n",
    "import os\n",
    "\n",
    "# Using math module\n",
    "result = math.sqrt(16)  # Output: 4.0\n",
    "print(result)\n",
    "\n",
    "# Using os module to get environment variables\n",
    "procArch = os.getenv(\"PROCESSOR_ARCHITECTURE\")\n",
    "print(procArch)\n"
   ]
  },
  {
   "cell_type": "code",
   "execution_count": 67,
   "id": "67ab3354-e4a3-44a3-ab25-aa045dbcb0eb",
   "metadata": {},
   "outputs": [
    {
     "name": "stdout",
     "output_type": "stream",
     "text": [
      "Gh7YSdsd\n"
     ]
    }
   ],
   "source": [
    "#Manage sensitive information securely with the python-dotenv package.\n",
    "\n",
    "# .env file\n",
    "OPENAI_API_KEY='your_openai_api_key'\n",
    "\n",
    "from dotenv import load_dotenv\n",
    "import os\n",
    "\n",
    "load_dotenv()  # Load variables from .env\n",
    "\n",
    "api_key = os.getenv(\"OPENAI_API_KEY\")\n",
    "print(api_key)\n"
   ]
  },
  {
   "cell_type": "code",
   "execution_count": 1,
   "id": "94ea2a62-8c92-48ed-9dc1-9bb6fbf2e11e",
   "metadata": {},
   "outputs": [
    {
     "name": "stdout",
     "output_type": "stream",
     "text": [
      "Cannot divide by zero!\n",
      "This will always execute.\n"
     ]
    }
   ],
   "source": [
    "#Manage exceptions gracefully using try and except blocks.\n",
    "\n",
    "try:\n",
    "    result = 10 / 0\n",
    "except ZeroDivisionError:\n",
    "    print(\"Cannot divide by zero!\")\n",
    "finally:\n",
    "    print(\"This will always execute.\")\n"
   ]
  },
  {
   "cell_type": "code",
   "execution_count": 4,
   "id": "fb49e2d5-54b9-419b-94b9-67f4ca21fe4d",
   "metadata": {},
   "outputs": [
    {
     "name": "stdout",
     "output_type": "stream",
     "text": [
      "Translate the following English text to French: Hello, how far is paris from here?\n",
      "\n",
      "\n",
      "Bonjour, quelle distance y a-t-il entre ici et Paris ?\n"
     ]
    }
   ],
   "source": [
    "#Combine the above concepts to build AI-enabled applications.\n",
    "\n",
    "from langchain_openai import OpenAI\n",
    "from langchain import PromptTemplate\n",
    "from dotenv import load_dotenv\n",
    "\n",
    "load_dotenv()\n",
    "\n",
    "# Initialize the OpenAI model\n",
    "llm = OpenAI(temperature=0.9)\n",
    "\n",
    "# Create a prompt template\n",
    "template = PromptTemplate(\n",
    "\tinput_variables = [\"text\"],\n",
    "    template = \"Translate the following English text to French: {text}\"\n",
    ")\n",
    "\n",
    "# Format the prompt with user input\n",
    "final_prompt = template.format(text=\"Hello, how far is paris from here?\")\n",
    "print(final_prompt)\n",
    "\n",
    "# Generate the AI response\n",
    "response = llm.invoke(final_prompt)\n",
    "print(response) \n"
   ]
  },
  {
   "cell_type": "code",
   "execution_count": null,
   "id": "5973bb41-6be3-4b33-a2cf-320d44212279",
   "metadata": {},
   "outputs": [],
   "source": []
  }
 ],
 "metadata": {
  "kernelspec": {
   "display_name": "Python 3 (ipykernel)",
   "language": "python",
   "name": "python3"
  },
  "language_info": {
   "codemirror_mode": {
    "name": "ipython",
    "version": 3
   },
   "file_extension": ".py",
   "mimetype": "text/x-python",
   "name": "python",
   "nbconvert_exporter": "python",
   "pygments_lexer": "ipython3",
   "version": "3.13.1"
  }
 },
 "nbformat": 4,
 "nbformat_minor": 5
}
