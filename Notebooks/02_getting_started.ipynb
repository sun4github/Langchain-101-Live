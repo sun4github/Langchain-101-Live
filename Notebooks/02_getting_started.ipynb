{
 "cells": [
  {
   "cell_type": "markdown",
   "id": "216db522-99d6-4f63-bd51-24688609574a",
   "metadata": {},
   "source": [
    "### What packages need to be imported to use it and how can we learn more about them ?\n",
    "- Some of the most important packages are: langchain, langchain-community, langchain-openai, openai, python-dotenv\n",
    "- langchain-community: containts 3rd part integrations that implement the base interfaces defines in langchain core, that make them ready-to-use in a langchain application\n",
    "- langchain-openai: provides the necessary integrations for OpenAI models to use with langchain applications\n",
    "- langchain: the main library for building LLM-powered applications\n",
    "- OpenAI: allows us to work with OpenAI GPT models\n",
    "- python-dotenv: helps us load the environment variables from a .env file into the python's application environment\n",
    "- There will be other packages which needs to be installed, as we explore more concepts"
   ]
  },
  {
   "cell_type": "code",
   "execution_count": null,
   "id": "b8ab45da-a842-4e83-9009-0295732622e0",
   "metadata": {},
   "outputs": [],
   "source": [
    "#Install the necessary packages\n",
    "#pip install langchain langchain-community langchain-openai python-dotenv openai"
   ]
  },
  {
   "cell_type": "markdown",
   "id": "01afeda6-4bb6-4b4b-b6a5-8eeafe0989d1",
   "metadata": {},
   "source": [
    "### How do we set and consume environment variables ?\n",
    "1. Install \"python-dotenv\" package if not already\n",
    "2. Create a .env file in the same folder as the application code. If using git, ensure that the .env file is excluded from pushing to upstream by including it in .gitignore\n",
    "3. In the .env file create entries for environment settings such as API keys, configuration etc. The format is key=value. Ensure the value is surrounded by single quotes if it is a string. ex. API_KEY='mySecret-Key'\n",
    "4. All the configuration and api keys will be available as environment variables\n",
    "5. To use the environment variables explictly, we need to import os and read them from the .env file using the \"environ\" class of \"os\" package. All of the environment variables will be availavble as properties on \"environ\" class and can be accessed using square brackets."
   ]
  },
  {
   "cell_type": "code",
   "execution_count": 8,
   "id": "885fe86b-d6a5-4f73-bde2-bb5d7d0eb313",
   "metadata": {},
   "outputs": [
    {
     "name": "stdout",
     "output_type": "stream",
     "text": [
      "Gh7YSdsd\n"
     ]
    }
   ],
   "source": [
    "from dotenv import load_dotenv\n",
    "import os\n",
    "\n",
    "load_dotenv()\n",
    "myKey = os.environ[\"OPENAI_API_KEY\"]\n",
    "print(myKey)"
   ]
  },
  {
   "cell_type": "code",
   "execution_count": null,
   "id": "f18cdda1-8c47-43a6-a739-b0dd4f8822ce",
   "metadata": {},
   "outputs": [],
   "source": []
  }
 ],
 "metadata": {
  "kernelspec": {
   "display_name": "Python 3 (ipykernel)",
   "language": "python",
   "name": "python3"
  },
  "language_info": {
   "codemirror_mode": {
    "name": "ipython",
    "version": 3
   },
   "file_extension": ".py",
   "mimetype": "text/x-python",
   "name": "python",
   "nbconvert_exporter": "python",
   "pygments_lexer": "ipython3",
   "version": "3.13.1"
  }
 },
 "nbformat": 4,
 "nbformat_minor": 5
}
